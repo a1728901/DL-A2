{
  "nbformat": 4,
  "nbformat_minor": 0,
  "metadata": {
    "colab": {
      "provenance": [],
      "machine_shape": "hm",
      "collapsed_sections": []
    },
    "kernelspec": {
      "name": "python3",
      "display_name": "Python 3"
    },
    "language_info": {
      "name": "python"
    },
    "gpuClass": "standard",
    "accelerator": "GPU"
  },
  "cells": [
    {
      "cell_type": "code",
      "execution_count": 1,
      "metadata": {
        "id": "OozxcL0jvi43"
      },
      "outputs": [],
      "source": [
        "import numpy as np\n",
        "import pandas as pd\n",
        "import os\n",
        "import tensorflow as tf\n",
        "import matplotlib.pyplot as plt\n",
        "\n",
        "import cv2"
      ]
    },
    {
      "cell_type": "code",
      "source": [
        "from google.colab import drive  #using the google drive\n",
        "drive.mount('/content/drive')"
      ],
      "metadata": {
        "id": "JmQwDMoAwT8d",
        "colab": {
          "base_uri": "https://localhost:8080/"
        },
        "outputId": "40d9068f-e003-4ec4-8709-1cc61f37e45b"
      },
      "execution_count": 2,
      "outputs": [
        {
          "output_type": "stream",
          "name": "stdout",
          "text": [
            "Mounted at /content/drive\n"
          ]
        }
      ]
    },
    {
      "cell_type": "markdown",
      "source": [
        "**Data loader**"
      ],
      "metadata": {
        "id": "jyDpsKf9XHsr"
      }
    },
    {
      "cell_type": "code",
      "source": [
        "from glob import glob\n",
        "import cv2\n",
        "images_path = '/content/drive/MyDrive/BIG DATA/train/train/*/*.png' #load the data from the google drive\n",
        "\n",
        "images = glob(images_path)\n",
        "train_images = []\n",
        "train_labels = []\n",
        "\n",
        "for img in images:\n",
        "    train_images.append(cv2.resize(cv2.imread(img), (256, 256))) #image is 256x256x3\n",
        "    train_labels.append(img.split('/')[-2])\n",
        "train_X = np.asarray(train_images)\n",
        "train_Y = pd.DataFrame(train_labels)"
      ],
      "metadata": {
        "id": "4mqu5k5IvrSn"
      },
      "execution_count": 3,
      "outputs": []
    },
    {
      "cell_type": "code",
      "source": [
        "train_Y"
      ],
      "metadata": {
        "id": "xg96DTHFwJsZ",
        "colab": {
          "base_uri": "https://localhost:8080/",
          "height": 423
        },
        "outputId": "fc1d4a46-4b9d-4e0b-a810-cc2ddf1881ea"
      },
      "execution_count": 4,
      "outputs": [
        {
          "output_type": "execute_result",
          "data": {
            "text/plain": [
              "                              0\n",
              "0               Shepherds Purse\n",
              "1               Shepherds Purse\n",
              "2               Shepherds Purse\n",
              "3               Shepherds Purse\n",
              "4               Shepherds Purse\n",
              "...                         ...\n",
              "4745  Small-flowered Cranesbill\n",
              "4746  Small-flowered Cranesbill\n",
              "4747  Small-flowered Cranesbill\n",
              "4748  Small-flowered Cranesbill\n",
              "4749  Small-flowered Cranesbill\n",
              "\n",
              "[4750 rows x 1 columns]"
            ],
            "text/html": [
              "\n",
              "  <div id=\"df-25143b16-7dc4-457c-90ba-b2a2c71093e3\">\n",
              "    <div class=\"colab-df-container\">\n",
              "      <div>\n",
              "<style scoped>\n",
              "    .dataframe tbody tr th:only-of-type {\n",
              "        vertical-align: middle;\n",
              "    }\n",
              "\n",
              "    .dataframe tbody tr th {\n",
              "        vertical-align: top;\n",
              "    }\n",
              "\n",
              "    .dataframe thead th {\n",
              "        text-align: right;\n",
              "    }\n",
              "</style>\n",
              "<table border=\"1\" class=\"dataframe\">\n",
              "  <thead>\n",
              "    <tr style=\"text-align: right;\">\n",
              "      <th></th>\n",
              "      <th>0</th>\n",
              "    </tr>\n",
              "  </thead>\n",
              "  <tbody>\n",
              "    <tr>\n",
              "      <th>0</th>\n",
              "      <td>Shepherds Purse</td>\n",
              "    </tr>\n",
              "    <tr>\n",
              "      <th>1</th>\n",
              "      <td>Shepherds Purse</td>\n",
              "    </tr>\n",
              "    <tr>\n",
              "      <th>2</th>\n",
              "      <td>Shepherds Purse</td>\n",
              "    </tr>\n",
              "    <tr>\n",
              "      <th>3</th>\n",
              "      <td>Shepherds Purse</td>\n",
              "    </tr>\n",
              "    <tr>\n",
              "      <th>4</th>\n",
              "      <td>Shepherds Purse</td>\n",
              "    </tr>\n",
              "    <tr>\n",
              "      <th>...</th>\n",
              "      <td>...</td>\n",
              "    </tr>\n",
              "    <tr>\n",
              "      <th>4745</th>\n",
              "      <td>Small-flowered Cranesbill</td>\n",
              "    </tr>\n",
              "    <tr>\n",
              "      <th>4746</th>\n",
              "      <td>Small-flowered Cranesbill</td>\n",
              "    </tr>\n",
              "    <tr>\n",
              "      <th>4747</th>\n",
              "      <td>Small-flowered Cranesbill</td>\n",
              "    </tr>\n",
              "    <tr>\n",
              "      <th>4748</th>\n",
              "      <td>Small-flowered Cranesbill</td>\n",
              "    </tr>\n",
              "    <tr>\n",
              "      <th>4749</th>\n",
              "      <td>Small-flowered Cranesbill</td>\n",
              "    </tr>\n",
              "  </tbody>\n",
              "</table>\n",
              "<p>4750 rows × 1 columns</p>\n",
              "</div>\n",
              "      <button class=\"colab-df-convert\" onclick=\"convertToInteractive('df-25143b16-7dc4-457c-90ba-b2a2c71093e3')\"\n",
              "              title=\"Convert this dataframe to an interactive table.\"\n",
              "              style=\"display:none;\">\n",
              "        \n",
              "  <svg xmlns=\"http://www.w3.org/2000/svg\" height=\"24px\"viewBox=\"0 0 24 24\"\n",
              "       width=\"24px\">\n",
              "    <path d=\"M0 0h24v24H0V0z\" fill=\"none\"/>\n",
              "    <path d=\"M18.56 5.44l.94 2.06.94-2.06 2.06-.94-2.06-.94-.94-2.06-.94 2.06-2.06.94zm-11 1L8.5 8.5l.94-2.06 2.06-.94-2.06-.94L8.5 2.5l-.94 2.06-2.06.94zm10 10l.94 2.06.94-2.06 2.06-.94-2.06-.94-.94-2.06-.94 2.06-2.06.94z\"/><path d=\"M17.41 7.96l-1.37-1.37c-.4-.4-.92-.59-1.43-.59-.52 0-1.04.2-1.43.59L10.3 9.45l-7.72 7.72c-.78.78-.78 2.05 0 2.83L4 21.41c.39.39.9.59 1.41.59.51 0 1.02-.2 1.41-.59l7.78-7.78 2.81-2.81c.8-.78.8-2.07 0-2.86zM5.41 20L4 18.59l7.72-7.72 1.47 1.35L5.41 20z\"/>\n",
              "  </svg>\n",
              "      </button>\n",
              "      \n",
              "  <style>\n",
              "    .colab-df-container {\n",
              "      display:flex;\n",
              "      flex-wrap:wrap;\n",
              "      gap: 12px;\n",
              "    }\n",
              "\n",
              "    .colab-df-convert {\n",
              "      background-color: #E8F0FE;\n",
              "      border: none;\n",
              "      border-radius: 50%;\n",
              "      cursor: pointer;\n",
              "      display: none;\n",
              "      fill: #1967D2;\n",
              "      height: 32px;\n",
              "      padding: 0 0 0 0;\n",
              "      width: 32px;\n",
              "    }\n",
              "\n",
              "    .colab-df-convert:hover {\n",
              "      background-color: #E2EBFA;\n",
              "      box-shadow: 0px 1px 2px rgba(60, 64, 67, 0.3), 0px 1px 3px 1px rgba(60, 64, 67, 0.15);\n",
              "      fill: #174EA6;\n",
              "    }\n",
              "\n",
              "    [theme=dark] .colab-df-convert {\n",
              "      background-color: #3B4455;\n",
              "      fill: #D2E3FC;\n",
              "    }\n",
              "\n",
              "    [theme=dark] .colab-df-convert:hover {\n",
              "      background-color: #434B5C;\n",
              "      box-shadow: 0px 1px 3px 1px rgba(0, 0, 0, 0.15);\n",
              "      filter: drop-shadow(0px 1px 2px rgba(0, 0, 0, 0.3));\n",
              "      fill: #FFFFFF;\n",
              "    }\n",
              "  </style>\n",
              "\n",
              "      <script>\n",
              "        const buttonEl =\n",
              "          document.querySelector('#df-25143b16-7dc4-457c-90ba-b2a2c71093e3 button.colab-df-convert');\n",
              "        buttonEl.style.display =\n",
              "          google.colab.kernel.accessAllowed ? 'block' : 'none';\n",
              "\n",
              "        async function convertToInteractive(key) {\n",
              "          const element = document.querySelector('#df-25143b16-7dc4-457c-90ba-b2a2c71093e3');\n",
              "          const dataTable =\n",
              "            await google.colab.kernel.invokeFunction('convertToInteractive',\n",
              "                                                     [key], {});\n",
              "          if (!dataTable) return;\n",
              "\n",
              "          const docLinkHtml = 'Like what you see? Visit the ' +\n",
              "            '<a target=\"_blank\" href=https://colab.research.google.com/notebooks/data_table.ipynb>data table notebook</a>'\n",
              "            + ' to learn more about interactive tables.';\n",
              "          element.innerHTML = '';\n",
              "          dataTable['output_type'] = 'display_data';\n",
              "          await google.colab.output.renderOutput(dataTable, element);\n",
              "          const docLink = document.createElement('div');\n",
              "          docLink.innerHTML = docLinkHtml;\n",
              "          element.appendChild(docLink);\n",
              "        }\n",
              "      </script>\n",
              "    </div>\n",
              "  </div>\n",
              "  "
            ]
          },
          "metadata": {},
          "execution_count": 4
        }
      ]
    },
    {
      "cell_type": "code",
      "source": [
        "train_X.shape #4750 images, 256*256, 3 channels"
      ],
      "metadata": {
        "id": "EKx6mHCQ-aQy",
        "colab": {
          "base_uri": "https://localhost:8080/"
        },
        "outputId": "ee943781-d366-49e2-e5c6-da0d372b3f6c"
      },
      "execution_count": 5,
      "outputs": [
        {
          "output_type": "execute_result",
          "data": {
            "text/plain": [
              "(4750, 256, 256, 3)"
            ]
          },
          "metadata": {},
          "execution_count": 5
        }
      ]
    },
    {
      "cell_type": "code",
      "source": [
        "train_Y.rename(columns={0:'species'},inplace=True)"
      ],
      "metadata": {
        "id": "hlxYlr9Dvupd"
      },
      "execution_count": 6,
      "outputs": []
    },
    {
      "cell_type": "code",
      "source": [
        "from sklearn.preprocessing import LabelEncoder\n",
        "from keras.utils import np_utils\n",
        "le = LabelEncoder()\n",
        "le.fit(train_Y['species'])\n",
        "encoded_labels = le.transform(train_Y['species'])\n",
        "train_label = np_utils.to_categorical(encoded_labels) #Number to Binary"
      ],
      "metadata": {
        "id": "POBrkRxRyc0P"
      },
      "execution_count": 7,
      "outputs": []
    },
    {
      "cell_type": "code",
      "source": [
        "#seed fixing\n",
        "import random\n",
        "import os\n",
        "seed = 42\n",
        "random.seed(seed)\n",
        "np.random.seed(seed)\n",
        "os.environ[\"PYTHONHASHSEED\"] = str(seed)"
      ],
      "metadata": {
        "id": "f9089PLTyh7j"
      },
      "execution_count": 8,
      "outputs": []
    },
    {
      "cell_type": "markdown",
      "source": [
        "**Data Split**"
      ],
      "metadata": {
        "id": "YODlmqMDbCf2"
      }
    },
    {
      "cell_type": "code",
      "source": [
        "from sklearn.model_selection import train_test_split #X=DATA Y=LABEL, 0.8 train, 0.2 test\n",
        "X_train,X_test,Y_train,Y_test=train_test_split(train_X, train_label,test_size=0.2,random_state=seed, stratify=train_label) "
      ],
      "metadata": {
        "id": "RUgrG_Vkyipj"
      },
      "execution_count": 9,
      "outputs": []
    },
    {
      "cell_type": "code",
      "source": [
        "X_test.shape #950 test images"
      ],
      "metadata": {
        "id": "HlewAOuHNEdy",
        "colab": {
          "base_uri": "https://localhost:8080/"
        },
        "outputId": "b096ffb6-46b8-47ea-8775-8c7f13b8ea02"
      },
      "execution_count": 10,
      "outputs": [
        {
          "output_type": "execute_result",
          "data": {
            "text/plain": [
              "(950, 256, 256, 3)"
            ]
          },
          "metadata": {},
          "execution_count": 10
        }
      ]
    },
    {
      "cell_type": "code",
      "source": [
        "Y_test.shape #950 test labels"
      ],
      "metadata": {
        "id": "SApQfBylNHe7",
        "colab": {
          "base_uri": "https://localhost:8080/"
        },
        "outputId": "f5aa85b9-c88c-403b-8677-a80b259698e2"
      },
      "execution_count": 11,
      "outputs": [
        {
          "output_type": "execute_result",
          "data": {
            "text/plain": [
              "(950, 12)"
            ]
          },
          "metadata": {},
          "execution_count": 11
        }
      ]
    },
    {
      "cell_type": "code",
      "source": [
        "X_train.shape #3800 train labels"
      ],
      "metadata": {
        "id": "z3i_wM3FQQLq",
        "colab": {
          "base_uri": "https://localhost:8080/"
        },
        "outputId": "b8af30bc-054b-4b85-cd70-5b4ce4f57bdd"
      },
      "execution_count": 12,
      "outputs": [
        {
          "output_type": "execute_result",
          "data": {
            "text/plain": [
              "(3800, 256, 256, 3)"
            ]
          },
          "metadata": {},
          "execution_count": 12
        }
      ]
    },
    {
      "cell_type": "code",
      "source": [
        "Y_train.shape #3800 train labels"
      ],
      "metadata": {
        "id": "MnVe04x7QSaH",
        "colab": {
          "base_uri": "https://localhost:8080/"
        },
        "outputId": "bb726ab4-708d-4a4e-adeb-6b20c4c8d48a"
      },
      "execution_count": 13,
      "outputs": [
        {
          "output_type": "execute_result",
          "data": {
            "text/plain": [
              "(3800, 12)"
            ]
          },
          "metadata": {},
          "execution_count": 13
        }
      ]
    },
    {
      "cell_type": "markdown",
      "source": [
        "**Data normalization**"
      ],
      "metadata": {
        "id": "QDUlqnkvhThc"
      }
    },
    {
      "cell_type": "code",
      "source": [
        "# Normalization \n",
        "X_train = X_train.astype('float32') / 255\n",
        "X_test = X_test.astype('float32') / 255 "
      ],
      "metadata": {
        "id": "IwFPIKBNykuV"
      },
      "execution_count": 15,
      "outputs": []
    },
    {
      "cell_type": "markdown",
      "source": [
        "**Data generator**"
      ],
      "metadata": {
        "id": "YJpVkMEAYNPv"
      }
    },
    {
      "cell_type": "code",
      "source": [
        "from keras.preprocessing.image import ImageDataGenerator\n",
        "datagenerator = ImageDataGenerator(\n",
        "        horizontal_flip=True,  #Horizontal flip \n",
        "        vertical_flip=True,  #Up and down reversal\n",
        "        rotation_range=180,  #Rotation angle\n",
        "        shear_range=0.1,  #Distortions\n",
        "        zoom_range = 0.1, #Zoom in and out\n",
        "        width_shift_range=0.1,  #Up, down, left and right shift   \n",
        "        height_shift_range=0.1 \n",
        "    )  \n",
        "datagenerator.fit(train_X)"
      ],
      "metadata": {
        "id": "5C1HFI1CT1FK"
      },
      "execution_count": 16,
      "outputs": []
    },
    {
      "cell_type": "code",
      "source": [
        "X_train[0]"
      ],
      "metadata": {
        "id": "2ToZtzqLnnLi",
        "colab": {
          "base_uri": "https://localhost:8080/"
        },
        "outputId": "228735d0-9ff1-4cc4-9412-ae07fb37cc0b"
      },
      "execution_count": 17,
      "outputs": [
        {
          "output_type": "execute_result",
          "data": {
            "text/plain": [
              "array([[[0.0627451 , 0.0627451 , 0.09411765],\n",
              "        [0.07058824, 0.06666667, 0.09803922],\n",
              "        [0.07450981, 0.06666667, 0.10196079],\n",
              "        ...,\n",
              "        [0.12156863, 0.10980392, 0.13333334],\n",
              "        [0.10588235, 0.10196079, 0.1254902 ],\n",
              "        [0.14509805, 0.14117648, 0.16078432]],\n",
              "\n",
              "       [[0.09019608, 0.08627451, 0.12156863],\n",
              "        [0.0627451 , 0.05490196, 0.09411765],\n",
              "        [0.04705882, 0.03529412, 0.08235294],\n",
              "        ...,\n",
              "        [0.1254902 , 0.11372549, 0.13725491],\n",
              "        [0.10588235, 0.09803922, 0.12156863],\n",
              "        [0.12941177, 0.12941177, 0.14509805]],\n",
              "\n",
              "       [[0.09803922, 0.09803922, 0.12941177],\n",
              "        [0.12941177, 0.12941177, 0.15294118],\n",
              "        [0.08627451, 0.08235294, 0.11372549],\n",
              "        ...,\n",
              "        [0.12156863, 0.10980392, 0.14117648],\n",
              "        [0.10588235, 0.09803922, 0.12941177],\n",
              "        [0.14117648, 0.14117648, 0.16862746]],\n",
              "\n",
              "       ...,\n",
              "\n",
              "       [[0.05490196, 0.10196079, 0.22745098],\n",
              "        [0.08627451, 0.14901961, 0.29411766],\n",
              "        [0.09019608, 0.18431373, 0.3372549 ],\n",
              "        ...,\n",
              "        [0.10980392, 0.10196079, 0.12941177],\n",
              "        [0.12941177, 0.1254902 , 0.15686275],\n",
              "        [0.15294118, 0.14509805, 0.1764706 ]],\n",
              "\n",
              "       [[0.05098039, 0.06666667, 0.17254902],\n",
              "        [0.07843138, 0.13725491, 0.25882354],\n",
              "        [0.07843138, 0.18039216, 0.32156864],\n",
              "        ...,\n",
              "        [0.1254902 , 0.11372549, 0.14117648],\n",
              "        [0.12156863, 0.11764706, 0.14509805],\n",
              "        [0.15294118, 0.14901961, 0.16862746]],\n",
              "\n",
              "       [[0.05490196, 0.07058824, 0.14901961],\n",
              "        [0.0627451 , 0.13333334, 0.23529412],\n",
              "        [0.0627451 , 0.1764706 , 0.30980393],\n",
              "        ...,\n",
              "        [0.10980392, 0.09803922, 0.1254902 ],\n",
              "        [0.13725491, 0.13333334, 0.15294118],\n",
              "        [0.15294118, 0.15294118, 0.16862746]]], dtype=float32)"
            ]
          },
          "metadata": {},
          "execution_count": 17
        }
      ]
    },
    {
      "cell_type": "markdown",
      "source": [
        "**Create CNN model**"
      ],
      "metadata": {
        "id": "LzaSC0orX4R6"
      }
    },
    {
      "cell_type": "code",
      "source": [
        "from keras.models import Sequential\n",
        "from keras.layers import Dense\n",
        "from keras.layers import Dropout\n",
        "from keras.layers import Flatten\n",
        "from keras.layers.convolutional import Conv2D\n",
        "from keras.layers.convolutional import MaxPooling2D\n",
        "from keras.layers import BatchNormalization\n",
        "\n",
        "model = Sequential()\n",
        "\n",
        "############# layer 1 ###########################\n",
        "model.add(Conv2D(filters=32, kernel_size=(3, 3), input_shape=(256, 256, 3),padding = 'Same', activation='relu')) #padding = 1, ReLU\n",
        "model.add(BatchNormalization(axis=3))\n",
        "model.add(MaxPooling2D((2, 2)))\n",
        "model.add(Dropout(0.1))\n",
        "\n",
        "############# layer 2 ###########################\n",
        "model.add(Conv2D(filters=64, kernel_size=(3, 3),padding = 'Same', activation='relu')) \n",
        "model.add(BatchNormalization(axis=3))\n",
        "model.add(MaxPooling2D((2, 2)))\n",
        "model.add(Dropout(0.1))\n",
        "\n",
        "############# layer 3 ###########################\n",
        "model.add(Conv2D(filters=128, kernel_size=(3, 3),padding = 'Same', activation='relu'))\n",
        "model.add(BatchNormalization(axis=3))\n",
        "# model.add(MaxPooling2D((2, 2)))\n",
        "model.add(Dropout(0.2))\n",
        "\n",
        "############# layer 4 ###########################\n",
        "model.add(Conv2D(filters=256, kernel_size=(3, 3),padding = 'Same', activation='relu'))\n",
        "model.add(BatchNormalization(axis=3))\n",
        "# model.add(MaxPooling2D((2, 2)))\n",
        "model.add(Dropout(0.2))\n",
        "\n",
        "\n",
        "########## fully connected ##########\n",
        "model.add(Flatten())\n",
        "model.add(Dense(256, activation='relu'))\n",
        "model.add(BatchNormalization())\n",
        "model.add(Dropout(0.1)) \n",
        "model.add(Dense(12, activation='softmax'))\n",
        " \n",
        "\n",
        "# model.summary()"
      ],
      "metadata": {
        "id": "lJ83hkPJypdJ"
      },
      "execution_count": 19,
      "outputs": []
    },
    {
      "cell_type": "markdown",
      "source": [
        "**optimizer using Adama**"
      ],
      "metadata": {
        "id": "su1TnLxDYHrI"
      }
    },
    {
      "cell_type": "code",
      "source": [
        "from keras.optimizers import adam_v2\n",
        "optimizer = adam_v2.Adam(learning_rate=0.0001, decay=0.0001/20) "
      ],
      "metadata": {
        "id": "EyuH3NkWDvvI"
      },
      "execution_count": 20,
      "outputs": []
    },
    {
      "cell_type": "code",
      "source": [
        "#Specify Lass and Optimizer\n",
        "model.compile(optimizer=optimizer, loss='categorical_crossentropy', metrics=['accuracy'])"
      ],
      "metadata": {
        "id": "K81XGnsHyq8-"
      },
      "execution_count": 22,
      "outputs": []
    },
    {
      "cell_type": "markdown",
      "source": [
        "**Fit the model**"
      ],
      "metadata": {
        "id": "P3fxOMtAYua_"
      }
    },
    {
      "cell_type": "code",
      "source": [
        "history = model.fit(datagenerator.flow(X_train, Y_train, batch_size=64), \n",
        "                    epochs=20, validation_data=(X_test, Y_test))"
      ],
      "metadata": {
        "colab": {
          "base_uri": "https://localhost:8080/"
        },
        "id": "7NwX3JTuw1cW",
        "outputId": "0ef8d42d-6a4a-4a92-cb94-dc7352d4a1de"
      },
      "execution_count": 24,
      "outputs": [
        {
          "output_type": "stream",
          "name": "stdout",
          "text": [
            "Epoch 1/20\n",
            "60/60 [==============================] - 49s 759ms/step - loss: 0.7838 - accuracy: 0.7471 - val_loss: 7.0178 - val_accuracy: 0.0495\n",
            "Epoch 2/20\n",
            "60/60 [==============================] - 46s 765ms/step - loss: 0.6618 - accuracy: 0.7758 - val_loss: 6.6497 - val_accuracy: 0.0611\n",
            "Epoch 3/20\n",
            "60/60 [==============================] - 46s 765ms/step - loss: 0.5955 - accuracy: 0.8021 - val_loss: 5.9697 - val_accuracy: 0.1663\n",
            "Epoch 4/20\n",
            "60/60 [==============================] - 46s 763ms/step - loss: 0.5295 - accuracy: 0.8216 - val_loss: 4.9123 - val_accuracy: 0.2232\n",
            "Epoch 5/20\n",
            "60/60 [==============================] - 46s 762ms/step - loss: 0.4924 - accuracy: 0.8347 - val_loss: 3.3714 - val_accuracy: 0.3295\n",
            "Epoch 6/20\n",
            "60/60 [==============================] - 46s 765ms/step - loss: 0.4788 - accuracy: 0.8368 - val_loss: 2.4160 - val_accuracy: 0.4368\n",
            "Epoch 7/20\n",
            "60/60 [==============================] - 47s 786ms/step - loss: 0.4547 - accuracy: 0.8500 - val_loss: 1.3278 - val_accuracy: 0.6105\n",
            "Epoch 8/20\n",
            "60/60 [==============================] - 46s 768ms/step - loss: 0.4268 - accuracy: 0.8558 - val_loss: 0.9488 - val_accuracy: 0.6958\n",
            "Epoch 9/20\n",
            "60/60 [==============================] - 46s 767ms/step - loss: 0.4247 - accuracy: 0.8500 - val_loss: 0.6599 - val_accuracy: 0.8074\n",
            "Epoch 10/20\n",
            "60/60 [==============================] - 46s 765ms/step - loss: 0.3996 - accuracy: 0.8624 - val_loss: 0.6558 - val_accuracy: 0.8074\n",
            "Epoch 11/20\n",
            "60/60 [==============================] - 46s 761ms/step - loss: 0.3602 - accuracy: 0.8716 - val_loss: 0.8539 - val_accuracy: 0.7463\n",
            "Epoch 12/20\n",
            "60/60 [==============================] - 46s 767ms/step - loss: 0.3493 - accuracy: 0.8829 - val_loss: 0.5704 - val_accuracy: 0.8379\n",
            "Epoch 13/20\n",
            "60/60 [==============================] - 46s 769ms/step - loss: 0.3409 - accuracy: 0.8776 - val_loss: 0.6280 - val_accuracy: 0.8074\n",
            "Epoch 14/20\n",
            "60/60 [==============================] - 46s 760ms/step - loss: 0.3343 - accuracy: 0.8847 - val_loss: 0.5867 - val_accuracy: 0.8274\n",
            "Epoch 15/20\n",
            "60/60 [==============================] - 46s 762ms/step - loss: 0.3263 - accuracy: 0.8874 - val_loss: 0.4687 - val_accuracy: 0.8347\n",
            "Epoch 16/20\n",
            "60/60 [==============================] - 46s 763ms/step - loss: 0.3347 - accuracy: 0.8866 - val_loss: 0.4203 - val_accuracy: 0.8537\n",
            "Epoch 17/20\n",
            "60/60 [==============================] - 46s 767ms/step - loss: 0.3042 - accuracy: 0.8966 - val_loss: 0.7405 - val_accuracy: 0.7937\n",
            "Epoch 18/20\n",
            "60/60 [==============================] - 46s 765ms/step - loss: 0.2976 - accuracy: 0.8939 - val_loss: 0.4443 - val_accuracy: 0.8632\n",
            "Epoch 19/20\n",
            "60/60 [==============================] - 47s 770ms/step - loss: 0.2867 - accuracy: 0.9003 - val_loss: 0.6788 - val_accuracy: 0.7905\n",
            "Epoch 20/20\n",
            "60/60 [==============================] - 47s 770ms/step - loss: 0.2793 - accuracy: 0.9045 - val_loss: 0.4988 - val_accuracy: 0.8558\n"
          ]
        }
      ]
    },
    {
      "cell_type": "code",
      "source": [
        "import matplotlib.pyplot as plt\n",
        "\n",
        "plt.plot(history.history['val_accuracy'], color='b', label=\"validation acc\")\n",
        "plt.plot(history.history['accuracy'], color='r', label=\"train acc\")\n",
        "plt.title(\"accuracy\")\n",
        "plt.xlabel(\"Epochs\")\n",
        "plt.ylabel(\"accuracy\")\n",
        "plt.legend()\n",
        "plt.show()\n",
        "\n",
        "plt.plot(history.history['val_loss'], color='b', label=\"validation loss\")\n",
        "plt.plot(history.history['loss'], color='r', label=\"train loss\")\n",
        "plt.title(\"Test Loss\")\n",
        "plt.xlabel(\"Epochs\")\n",
        "plt.ylabel(\"Loss\")\n",
        "plt.legend()\n",
        "plt.show()\n"
      ],
      "metadata": {
        "colab": {
          "base_uri": "https://localhost:8080/",
          "height": 573
        },
        "id": "cbJGsmmVw4Nt",
        "outputId": "65100fb0-65df-482a-f1eb-cdde4587ca7d"
      },
      "execution_count": 26,
      "outputs": [
        {
          "output_type": "display_data",
          "data": {
            "text/plain": [
              "<Figure size 432x288 with 1 Axes>"
            ],
            "image/png": "[encoded data removed]"
          },
          "metadata": {
            "needs_background": "light"
          }
        },
        {
          "output_type": "display_data",
          "data": {
            "text/plain": [
              "<Figure size 432x288 with 1 Axes>"
            ],
            "image/png": "[encoded data removed]"
          },
          "metadata": {
            "needs_background": "light"
          }
        }
      ]
    },
    {
      "cell_type": "code",
      "source": [
        "from keras.callbacks import ModelCheckpoint, EarlyStopping\n",
        "model_checkpoint = ModelCheckpoint('/content/drive/MyDrive/BIG DATA/models', #where to save the model\n",
        "                                                    save_best_only=True, \n",
        "                                                    monitor='val_accuracy', \n",
        "                                                    mode='max', \n",
        "                                                    verbose=1)\n",
        "early_stopping = EarlyStopping(monitor='val_loss', patience=10)\n",
        "#Stop fitting if there's no enhancement of accuracy for 10 times."
      ],
      "metadata": {
        "id": "6bniiAR9w9Rl"
      },
      "execution_count": 21,
      "outputs": []
    },
    {
      "cell_type": "code",
      "source": [
        "#Specify Lass and Optimizer\n",
        "model.compile(optimizer=optimizer, loss='categorical_crossentropy', metrics=['accuracy'])"
      ],
      "metadata": {
        "id": "024kTjM9BpCl"
      },
      "execution_count": 22,
      "outputs": []
    },
    {
      "cell_type": "code",
      "source": [
        "history = model.fit(datagenerator.flow(X_train, Y_train, batch_size=64), \n",
        "                    epochs=30, validation_data=(X_test, Y_test),\n",
        "                    callbacks = [early_stopping, model_checkpoint])"
      ],
      "metadata": {
        "id": "vWPNo3w-TZw3",
        "colab": {
          "base_uri": "https://localhost:8080/"
        },
        "outputId": "7ecd5b5e-0455-47a8-a0cf-4a1db592c7c7"
      },
      "execution_count": 23,
      "outputs": [
        {
          "output_type": "stream",
          "name": "stdout",
          "text": [
            "Epoch 1/30\n",
            "60/60 [==============================] - ETA: 0s - loss: 1.6832 - accuracy: 0.5024\n",
            "Epoch 1: val_accuracy improved from -inf to 0.13789, saving model to /content/drive/MyDrive/BIG DATA/models\n"
          ]
        },
        {
          "output_type": "stream",
          "name": "stderr",
          "text": [
            "WARNING:absl:Found untraced functions such as _jit_compiled_convolution_op, _jit_compiled_convolution_op, _jit_compiled_convolution_op, _jit_compiled_convolution_op while saving (showing 4 of 4). These functions will not be directly callable after loading.\n"
          ]
        },
        {
          "output_type": "stream",
          "name": "stdout",
          "text": [
            "\b\b\b\b\b\b\b\b\b\b\b\b\b\b\b\b\b\b\b\b\b\b\b\b\b\b\b\b\b\b\b\b\b\b\b\b\b\b\b\b\b\b\b\b\b\b\b\b\b\b\b\b\b\b\b\b\b\b\b\b\b\b\b\b\b\b\b\b\b\b\b\b\b\b\b\b\b\b\b\b\b\b\r60/60 [==============================] - 81s 1s/step - loss: 1.6832 - accuracy: 0.5024 - val_loss: 4.0398 - val_accuracy: 0.1379\n",
            "Epoch 2/30\n",
            "60/60 [==============================] - ETA: 0s - loss: 0.9452 - accuracy: 0.6932\n",
            "Epoch 2: val_accuracy did not improve from 0.13789\n",
            "60/60 [==============================] - 56s 925ms/step - loss: 0.9452 - accuracy: 0.6932 - val_loss: 6.1330 - val_accuracy: 0.1379\n",
            "Epoch 3/30\n",
            "60/60 [==============================] - ETA: 0s - loss: 0.7464 - accuracy: 0.7553\n",
            "Epoch 3: val_accuracy did not improve from 0.13789\n",
            "60/60 [==============================] - 55s 909ms/step - loss: 0.7464 - accuracy: 0.7553 - val_loss: 8.1287 - val_accuracy: 0.1379\n",
            "Epoch 4/30\n",
            "60/60 [==============================] - ETA: 0s - loss: 0.6483 - accuracy: 0.7895\n",
            "Epoch 4: val_accuracy did not improve from 0.13789\n",
            "60/60 [==============================] - 47s 777ms/step - loss: 0.6483 - accuracy: 0.7895 - val_loss: 9.4283 - val_accuracy: 0.1358\n",
            "Epoch 5/30\n",
            "60/60 [==============================] - ETA: 0s - loss: 0.5708 - accuracy: 0.8063\n",
            "Epoch 5: val_accuracy improved from 0.13789 to 0.15158, saving model to /content/drive/MyDrive/BIG DATA/models\n"
          ]
        },
        {
          "output_type": "stream",
          "name": "stderr",
          "text": [
            "WARNING:absl:Found untraced functions such as _jit_compiled_convolution_op, _jit_compiled_convolution_op, _jit_compiled_convolution_op, _jit_compiled_convolution_op while saving (showing 4 of 4). These functions will not be directly callable after loading.\n"
          ]
        },
        {
          "output_type": "stream",
          "name": "stdout",
          "text": [
            "\b\b\b\b\b\b\b\b\b\b\b\b\b\b\b\b\b\b\b\b\b\b\b\b\b\b\b\b\b\b\b\b\b\b\b\b\b\b\b\b\b\b\b\b\b\b\b\b\b\b\b\b\b\b\b\b\b\b\b\b\b\b\b\b\b\b\b\b\b\b\b\b\b\b\b\b\b\b\b\b\b\b\r60/60 [==============================] - 65s 1s/step - loss: 0.5708 - accuracy: 0.8063 - val_loss: 10.7020 - val_accuracy: 0.1516\n",
            "Epoch 6/30\n",
            "60/60 [==============================] - ETA: 0s - loss: 0.5044 - accuracy: 0.8332\n",
            "Epoch 6: val_accuracy improved from 0.15158 to 0.15474, saving model to /content/drive/MyDrive/BIG DATA/models\n"
          ]
        },
        {
          "output_type": "stream",
          "name": "stderr",
          "text": [
            "WARNING:absl:Found untraced functions such as _jit_compiled_convolution_op, _jit_compiled_convolution_op, _jit_compiled_convolution_op, _jit_compiled_convolution_op while saving (showing 4 of 4). These functions will not be directly callable after loading.\n"
          ]
        },
        {
          "output_type": "stream",
          "name": "stdout",
          "text": [
            "\b\b\b\b\b\b\b\b\b\b\b\b\b\b\b\b\b\b\b\b\b\b\b\b\b\b\b\b\b\b\b\b\b\b\b\b\b\b\b\b\b\b\b\b\b\b\b\b\b\b\b\b\b\b\b\b\b\b\b\b\b\b\b\b\b\b\b\b\b\b\b\b\b\b\b\b\b\b\b\b\b\b\r60/60 [==============================] - 71s 1s/step - loss: 0.5044 - accuracy: 0.8332 - val_loss: 9.7531 - val_accuracy: 0.1547\n",
            "Epoch 7/30\n",
            "60/60 [==============================] - ETA: 0s - loss: 0.4641 - accuracy: 0.8413\n",
            "Epoch 7: val_accuracy improved from 0.15474 to 0.18316, saving model to /content/drive/MyDrive/BIG DATA/models\n"
          ]
        },
        {
          "output_type": "stream",
          "name": "stderr",
          "text": [
            "WARNING:absl:Found untraced functions such as _jit_compiled_convolution_op, _jit_compiled_convolution_op, _jit_compiled_convolution_op, _jit_compiled_convolution_op while saving (showing 4 of 4). These functions will not be directly callable after loading.\n"
          ]
        },
        {
          "output_type": "stream",
          "name": "stdout",
          "text": [
            "\b\b\b\b\b\b\b\b\b\b\b\b\b\b\b\b\b\b\b\b\b\b\b\b\b\b\b\b\b\b\b\b\b\b\b\b\b\b\b\b\b\b\b\b\b\b\b\b\b\b\b\b\b\b\b\b\b\b\b\b\b\b\b\b\b\b\b\b\b\b\b\b\b\b\b\b\b\b\b\b\b\b\r60/60 [==============================] - 69s 1s/step - loss: 0.4641 - accuracy: 0.8413 - val_loss: 7.6866 - val_accuracy: 0.1832\n",
            "Epoch 8/30\n",
            "60/60 [==============================] - ETA: 0s - loss: 0.4269 - accuracy: 0.8561\n",
            "Epoch 8: val_accuracy improved from 0.18316 to 0.24526, saving model to /content/drive/MyDrive/BIG DATA/models\n"
          ]
        },
        {
          "output_type": "stream",
          "name": "stderr",
          "text": [
            "WARNING:absl:Found untraced functions such as _jit_compiled_convolution_op, _jit_compiled_convolution_op, _jit_compiled_convolution_op, _jit_compiled_convolution_op while saving (showing 4 of 4). These functions will not be directly callable after loading.\n"
          ]
        },
        {
          "output_type": "stream",
          "name": "stdout",
          "text": [
            "\b\b\b\b\b\b\b\b\b\b\b\b\b\b\b\b\b\b\b\b\b\b\b\b\b\b\b\b\b\b\b\b\b\b\b\b\b\b\b\b\b\b\b\b\b\b\b\b\b\b\b\b\b\b\b\b\b\b\b\b\b\b\b\b\b\b\b\b\b\b\b\b\b\b\b\b\b\b\b\b\b\b\r60/60 [==============================] - 69s 1s/step - loss: 0.4269 - accuracy: 0.8561 - val_loss: 5.1118 - val_accuracy: 0.2453\n",
            "Epoch 9/30\n",
            "60/60 [==============================] - ETA: 0s - loss: 0.4004 - accuracy: 0.8634\n",
            "Epoch 9: val_accuracy improved from 0.24526 to 0.36000, saving model to /content/drive/MyDrive/BIG DATA/models\n"
          ]
        },
        {
          "output_type": "stream",
          "name": "stderr",
          "text": [
            "WARNING:absl:Found untraced functions such as _jit_compiled_convolution_op, _jit_compiled_convolution_op, _jit_compiled_convolution_op, _jit_compiled_convolution_op while saving (showing 4 of 4). These functions will not be directly callable after loading.\n"
          ]
        },
        {
          "output_type": "stream",
          "name": "stdout",
          "text": [
            "\b\b\b\b\b\b\b\b\b\b\b\b\b\b\b\b\b\b\b\b\b\b\b\b\b\b\b\b\b\b\b\b\b\b\b\b\b\b\b\b\b\b\b\b\b\b\b\b\b\b\b\b\b\b\b\b\b\b\b\b\b\b\b\b\b\b\b\b\b\b\b\b\b\b\b\b\b\b\b\b\b\b\r60/60 [==============================] - 73s 1s/step - loss: 0.4004 - accuracy: 0.8634 - val_loss: 3.3961 - val_accuracy: 0.3600\n",
            "Epoch 10/30\n",
            "60/60 [==============================] - ETA: 0s - loss: 0.3931 - accuracy: 0.8682\n",
            "Epoch 10: val_accuracy improved from 0.36000 to 0.54737, saving model to /content/drive/MyDrive/BIG DATA/models\n"
          ]
        },
        {
          "output_type": "stream",
          "name": "stderr",
          "text": [
            "WARNING:absl:Found untraced functions such as _jit_compiled_convolution_op, _jit_compiled_convolution_op, _jit_compiled_convolution_op, _jit_compiled_convolution_op while saving (showing 4 of 4). These functions will not be directly callable after loading.\n"
          ]
        },
        {
          "output_type": "stream",
          "name": "stdout",
          "text": [
            "\b\b\b\b\b\b\b\b\b\b\b\b\b\b\b\b\b\b\b\b\b\b\b\b\b\b\b\b\b\b\b\b\b\b\b\b\b\b\b\b\b\b\b\b\b\b\b\b\b\b\b\b\b\b\b\b\b\b\b\b\b\b\b\b\b\b\b\b\b\b\b\b\b\b\b\b\b\b\b\b\b\b\r60/60 [==============================] - 69s 1s/step - loss: 0.3931 - accuracy: 0.8682 - val_loss: 2.0631 - val_accuracy: 0.5474\n",
            "Epoch 11/30\n",
            "60/60 [==============================] - ETA: 0s - loss: 0.3745 - accuracy: 0.8674\n",
            "Epoch 11: val_accuracy improved from 0.54737 to 0.69053, saving model to /content/drive/MyDrive/BIG DATA/models\n"
          ]
        },
        {
          "output_type": "stream",
          "name": "stderr",
          "text": [
            "WARNING:absl:Found untraced functions such as _jit_compiled_convolution_op, _jit_compiled_convolution_op, _jit_compiled_convolution_op, _jit_compiled_convolution_op while saving (showing 4 of 4). These functions will not be directly callable after loading.\n"
          ]
        },
        {
          "output_type": "stream",
          "name": "stdout",
          "text": [
            "\b\b\b\b\b\b\b\b\b\b\b\b\b\b\b\b\b\b\b\b\b\b\b\b\b\b\b\b\b\b\b\b\b\b\b\b\b\b\b\b\b\b\b\b\b\b\b\b\b\b\b\b\b\b\b\b\b\b\b\b\b\b\b\b\b\b\b\b\b\b\b\b\b\b\b\b\b\b\b\b\b\b\r60/60 [==============================] - 69s 1s/step - loss: 0.3745 - accuracy: 0.8674 - val_loss: 1.4169 - val_accuracy: 0.6905\n",
            "Epoch 12/30\n",
            "60/60 [==============================] - ETA: 0s - loss: 0.3517 - accuracy: 0.8784\n",
            "Epoch 12: val_accuracy improved from 0.69053 to 0.79579, saving model to /content/drive/MyDrive/BIG DATA/models\n"
          ]
        },
        {
          "output_type": "stream",
          "name": "stderr",
          "text": [
            "WARNING:absl:Found untraced functions such as _jit_compiled_convolution_op, _jit_compiled_convolution_op, _jit_compiled_convolution_op, _jit_compiled_convolution_op while saving (showing 4 of 4). These functions will not be directly callable after loading.\n"
          ]
        },
        {
          "output_type": "stream",
          "name": "stdout",
          "text": [
            "\b\b\b\b\b\b\b\b\b\b\b\b\b\b\b\b\b\b\b\b\b\b\b\b\b\b\b\b\b\b\b\b\b\b\b\b\b\b\b\b\b\b\b\b\b\b\b\b\b\b\b\b\b\b\b\b\b\b\b\b\b\b\b\b\b\b\b\b\b\b\b\b\b\b\b\b\b\b\b\b\b\b\r60/60 [==============================] - 69s 1s/step - loss: 0.3517 - accuracy: 0.8784 - val_loss: 0.7134 - val_accuracy: 0.7958\n",
            "Epoch 13/30\n",
            "60/60 [==============================] - ETA: 0s - loss: 0.3090 - accuracy: 0.8918\n",
            "Epoch 13: val_accuracy did not improve from 0.79579\n",
            "60/60 [==============================] - 52s 860ms/step - loss: 0.3090 - accuracy: 0.8918 - val_loss: 0.8368 - val_accuracy: 0.7674\n",
            "Epoch 14/30\n",
            "60/60 [==============================] - ETA: 0s - loss: 0.3163 - accuracy: 0.8913\n",
            "Epoch 14: val_accuracy did not improve from 0.79579\n",
            "60/60 [==============================] - 50s 834ms/step - loss: 0.3163 - accuracy: 0.8913 - val_loss: 0.6808 - val_accuracy: 0.7842\n",
            "Epoch 15/30\n",
            "60/60 [==============================] - ETA: 0s - loss: 0.3212 - accuracy: 0.8926\n",
            "Epoch 15: val_accuracy improved from 0.79579 to 0.81263, saving model to /content/drive/MyDrive/BIG DATA/models\n"
          ]
        },
        {
          "output_type": "stream",
          "name": "stderr",
          "text": [
            "WARNING:absl:Found untraced functions such as _jit_compiled_convolution_op, _jit_compiled_convolution_op, _jit_compiled_convolution_op, _jit_compiled_convolution_op while saving (showing 4 of 4). These functions will not be directly callable after loading.\n"
          ]
        },
        {
          "output_type": "stream",
          "name": "stdout",
          "text": [
            "\b\b\b\b\b\b\b\b\b\b\b\b\b\b\b\b\b\b\b\b\b\b\b\b\b\b\b\b\b\b\b\b\b\b\b\b\b\b\b\b\b\b\b\b\b\b\b\b\b\b\b\b\b\b\b\b\b\b\b\b\b\b\b\b\b\b\b\b\b\b\b\b\b\b\b\b\b\b\b\b\b\b\r60/60 [==============================] - 67s 1s/step - loss: 0.3212 - accuracy: 0.8926 - val_loss: 0.5519 - val_accuracy: 0.8126\n",
            "Epoch 16/30\n",
            "60/60 [==============================] - ETA: 0s - loss: 0.2914 - accuracy: 0.8934\n",
            "Epoch 16: val_accuracy improved from 0.81263 to 0.84632, saving model to /content/drive/MyDrive/BIG DATA/models\n"
          ]
        },
        {
          "output_type": "stream",
          "name": "stderr",
          "text": [
            "WARNING:absl:Found untraced functions such as _jit_compiled_convolution_op, _jit_compiled_convolution_op, _jit_compiled_convolution_op, _jit_compiled_convolution_op while saving (showing 4 of 4). These functions will not be directly callable after loading.\n"
          ]
        },
        {
          "output_type": "stream",
          "name": "stdout",
          "text": [
            "\b\b\b\b\b\b\b\b\b\b\b\b\b\b\b\b\b\b\b\b\b\b\b\b\b\b\b\b\b\b\b\b\b\b\b\b\b\b\b\b\b\b\b\b\b\b\b\b\b\b\b\b\b\b\b\b\b\b\b\b\b\b\b\b\b\b\b\b\b\b\b\b\b\b\b\b\b\b\b\b\b\b\r60/60 [==============================] - 70s 1s/step - loss: 0.2914 - accuracy: 0.8934 - val_loss: 0.4954 - val_accuracy: 0.8463\n",
            "Epoch 17/30\n",
            "60/60 [==============================] - ETA: 0s - loss: 0.2819 - accuracy: 0.9016\n",
            "Epoch 17: val_accuracy improved from 0.84632 to 0.85684, saving model to /content/drive/MyDrive/BIG DATA/models\n"
          ]
        },
        {
          "output_type": "stream",
          "name": "stderr",
          "text": [
            "WARNING:absl:Found untraced functions such as _jit_compiled_convolution_op, _jit_compiled_convolution_op, _jit_compiled_convolution_op, _jit_compiled_convolution_op while saving (showing 4 of 4). These functions will not be directly callable after loading.\n"
          ]
        },
        {
          "output_type": "stream",
          "name": "stdout",
          "text": [
            "\b\b\b\b\b\b\b\b\b\b\b\b\b\b\b\b\b\b\b\b\b\b\b\b\b\b\b\b\b\b\b\b\b\b\b\b\b\b\b\b\b\b\b\b\b\b\b\b\b\b\b\b\b\b\b\b\b\b\b\b\b\b\b\b\b\b\b\b\b\b\b\b\b\b\b\b\b\b\b\b\b\b\r60/60 [==============================] - 68s 1s/step - loss: 0.2819 - accuracy: 0.9016 - val_loss: 0.4291 - val_accuracy: 0.8568\n",
            "Epoch 18/30\n",
            "60/60 [==============================] - ETA: 0s - loss: 0.2939 - accuracy: 0.8955\n",
            "Epoch 18: val_accuracy did not improve from 0.85684\n",
            "60/60 [==============================] - 53s 878ms/step - loss: 0.2939 - accuracy: 0.8955 - val_loss: 0.5854 - val_accuracy: 0.8347\n",
            "Epoch 19/30\n",
            "60/60 [==============================] - ETA: 0s - loss: 0.2792 - accuracy: 0.9050\n",
            "Epoch 19: val_accuracy improved from 0.85684 to 0.86421, saving model to /content/drive/MyDrive/BIG DATA/models\n"
          ]
        },
        {
          "output_type": "stream",
          "name": "stderr",
          "text": [
            "WARNING:absl:Found untraced functions such as _jit_compiled_convolution_op, _jit_compiled_convolution_op, _jit_compiled_convolution_op, _jit_compiled_convolution_op while saving (showing 4 of 4). These functions will not be directly callable after loading.\n"
          ]
        },
        {
          "output_type": "stream",
          "name": "stdout",
          "text": [
            "\b\b\b\b\b\b\b\b\b\b\b\b\b\b\b\b\b\b\b\b\b\b\b\b\b\b\b\b\b\b\b\b\b\b\b\b\b\b\b\b\b\b\b\b\b\b\b\b\b\b\b\b\b\b\b\b\b\b\b\b\b\b\b\b\b\b\b\b\b\b\b\b\b\b\b\b\b\b\b\b\b\b\r60/60 [==============================] - 68s 1s/step - loss: 0.2792 - accuracy: 0.9050 - val_loss: 0.3939 - val_accuracy: 0.8642\n",
            "Epoch 20/30\n",
            "60/60 [==============================] - ETA: 0s - loss: 0.2707 - accuracy: 0.8989\n",
            "Epoch 20: val_accuracy improved from 0.86421 to 0.86526, saving model to /content/drive/MyDrive/BIG DATA/models\n"
          ]
        },
        {
          "output_type": "stream",
          "name": "stderr",
          "text": [
            "WARNING:absl:Found untraced functions such as _jit_compiled_convolution_op, _jit_compiled_convolution_op, _jit_compiled_convolution_op, _jit_compiled_convolution_op while saving (showing 4 of 4). These functions will not be directly callable after loading.\n"
          ]
        },
        {
          "output_type": "stream",
          "name": "stdout",
          "text": [
            "\b\b\b\b\b\b\b\b\b\b\b\b\b\b\b\b\b\b\b\b\b\b\b\b\b\b\b\b\b\b\b\b\b\b\b\b\b\b\b\b\b\b\b\b\b\b\b\b\b\b\b\b\b\b\b\b\b\b\b\b\b\b\b\b\b\b\b\b\b\b\b\b\b\b\b\b\b\b\b\b\b\b\r60/60 [==============================] - 67s 1s/step - loss: 0.2707 - accuracy: 0.8989 - val_loss: 0.4719 - val_accuracy: 0.8653\n",
            "Epoch 21/30\n",
            "60/60 [==============================] - ETA: 0s - loss: 0.2556 - accuracy: 0.9116\n",
            "Epoch 21: val_accuracy did not improve from 0.86526\n",
            "60/60 [==============================] - 54s 900ms/step - loss: 0.2556 - accuracy: 0.9116 - val_loss: 0.4402 - val_accuracy: 0.8400\n",
            "Epoch 22/30\n",
            "60/60 [==============================] - ETA: 0s - loss: 0.2444 - accuracy: 0.9205\n",
            "Epoch 22: val_accuracy improved from 0.86526 to 0.88842, saving model to /content/drive/MyDrive/BIG DATA/models\n"
          ]
        },
        {
          "output_type": "stream",
          "name": "stderr",
          "text": [
            "WARNING:absl:Found untraced functions such as _jit_compiled_convolution_op, _jit_compiled_convolution_op, _jit_compiled_convolution_op, _jit_compiled_convolution_op while saving (showing 4 of 4). These functions will not be directly callable after loading.\n"
          ]
        },
        {
          "output_type": "stream",
          "name": "stdout",
          "text": [
            "\b\b\b\b\b\b\b\b\b\b\b\b\b\b\b\b\b\b\b\b\b\b\b\b\b\b\b\b\b\b\b\b\b\b\b\b\b\b\b\b\b\b\b\b\b\b\b\b\b\b\b\b\b\b\b\b\b\b\b\b\b\b\b\b\b\b\b\b\b\b\b\b\b\b\b\b\b\b\b\b\b\b\r60/60 [==============================] - 68s 1s/step - loss: 0.2444 - accuracy: 0.9205 - val_loss: 0.3404 - val_accuracy: 0.8884\n",
            "Epoch 23/30\n",
            "60/60 [==============================] - ETA: 0s - loss: 0.2408 - accuracy: 0.9158\n",
            "Epoch 23: val_accuracy did not improve from 0.88842\n",
            "60/60 [==============================] - 50s 834ms/step - loss: 0.2408 - accuracy: 0.9158 - val_loss: 0.8713 - val_accuracy: 0.7179\n",
            "Epoch 24/30\n",
            "60/60 [==============================] - ETA: 0s - loss: 0.2468 - accuracy: 0.9174\n",
            "Epoch 24: val_accuracy did not improve from 0.88842\n",
            "60/60 [==============================] - 51s 842ms/step - loss: 0.2468 - accuracy: 0.9174 - val_loss: 0.4595 - val_accuracy: 0.8600\n",
            "Epoch 25/30\n",
            "60/60 [==============================] - ETA: 0s - loss: 0.2311 - accuracy: 0.9229\n",
            "Epoch 25: val_accuracy did not improve from 0.88842\n",
            "60/60 [==============================] - 52s 856ms/step - loss: 0.2311 - accuracy: 0.9229 - val_loss: 0.4969 - val_accuracy: 0.8411\n",
            "Epoch 26/30\n",
            "60/60 [==============================] - ETA: 0s - loss: 0.2147 - accuracy: 0.9266\n",
            "Epoch 26: val_accuracy did not improve from 0.88842\n",
            "60/60 [==============================] - 48s 802ms/step - loss: 0.2147 - accuracy: 0.9266 - val_loss: 0.6517 - val_accuracy: 0.8168\n",
            "Epoch 27/30\n",
            "60/60 [==============================] - ETA: 0s - loss: 0.2285 - accuracy: 0.9208\n",
            "Epoch 27: val_accuracy did not improve from 0.88842\n",
            "60/60 [==============================] - 47s 781ms/step - loss: 0.2285 - accuracy: 0.9208 - val_loss: 0.5809 - val_accuracy: 0.8400\n",
            "Epoch 28/30\n",
            "60/60 [==============================] - ETA: 0s - loss: 0.2125 - accuracy: 0.9282\n",
            "Epoch 28: val_accuracy did not improve from 0.88842\n",
            "60/60 [==============================] - 47s 783ms/step - loss: 0.2125 - accuracy: 0.9282 - val_loss: 0.6896 - val_accuracy: 0.8295\n",
            "Epoch 29/30\n",
            "60/60 [==============================] - ETA: 0s - loss: 0.2167 - accuracy: 0.9255\n",
            "Epoch 29: val_accuracy did not improve from 0.88842\n",
            "60/60 [==============================] - 47s 783ms/step - loss: 0.2167 - accuracy: 0.9255 - val_loss: 0.4110 - val_accuracy: 0.8832\n",
            "Epoch 30/30\n",
            "60/60 [==============================] - ETA: 0s - loss: 0.1977 - accuracy: 0.9392\n",
            "Epoch 30: val_accuracy did not improve from 0.88842\n",
            "60/60 [==============================] - 47s 782ms/step - loss: 0.1977 - accuracy: 0.9392 - val_loss: 0.3509 - val_accuracy: 0.8800\n"
          ]
        }
      ]
    },
    {
      "cell_type": "code",
      "source": [
        "import matplotlib.pyplot as plt\n",
        "\n",
        "plt.plot(history.history['val_accuracy'], color='b', label=\"validation acc\")\n",
        "plt.plot(history.history['accuracy'], color='r', label=\"train acc\")\n",
        "plt.title(\"accuracy\")\n",
        "plt.xlabel(\"Epochs\")\n",
        "plt.ylabel(\"accuracy\")\n",
        "plt.legend()\n",
        "plt.show()\n",
        "\n",
        "plt.plot(history.history['val_loss'], color='b', label=\"validation loss\")\n",
        "plt.plot(history.history['loss'], color='r', label=\"train loss\")\n",
        "plt.title(\"Test Loss\")\n",
        "plt.xlabel(\"Epochs\")\n",
        "plt.ylabel(\"Loss\")\n",
        "plt.legend()\n",
        "plt.show()\n"
      ],
      "metadata": {
        "id": "8xLEAYehhTIi",
        "colab": {
          "base_uri": "https://localhost:8080/",
          "height": 573
        },
        "outputId": "0e389153-3567-4833-85bb-0f93b709644b"
      },
      "execution_count": 24,
      "outputs": [
        {
          "output_type": "display_data",
          "data": {
            "text/plain": [
              "<Figure size 432x288 with 1 Axes>"
            ],
            "image/png": "[encoded data removed]"
          },
          "metadata": {
            "needs_background": "light"
          }
        },
        {
          "output_type": "display_data",
          "data": {
            "text/plain": [
              "<Figure size 432x288 with 1 Axes>"
            ],
            "image/png": "[encoded data removed]"
          },
          "metadata": {
            "needs_background": "light"
          }
        }
      ]
    },
    {
      "cell_type": "code",
      "source": [
        "model.summary()"
      ],
      "metadata": {
        "id": "5cxg6Z6BL_qu",
        "colab": {
          "base_uri": "https://localhost:8080/"
        },
        "outputId": "111f2334-d6db-4337-94d9-049be9317d24"
      },
      "execution_count": 48,
      "outputs": [
        {
          "output_type": "stream",
          "name": "stdout",
          "text": [
            "Model: \"sequential_1\"\n",
            "_________________________________________________________________\n",
            " Layer (type)                Output Shape              Param #   \n",
            "=================================================================\n",
            " conv2d_4 (Conv2D)           (None, 256, 256, 32)      896       \n",
            "                                                                 \n",
            " batch_normalization_5 (Batc  (None, 256, 256, 32)     128       \n",
            " hNormalization)                                                 \n",
            "                                                                 \n",
            " max_pooling2d_2 (MaxPooling  (None, 128, 128, 32)     0         \n",
            " 2D)                                                             \n",
            "                                                                 \n",
            " dropout_5 (Dropout)         (None, 128, 128, 32)      0         \n",
            "                                                                 \n",
            " conv2d_5 (Conv2D)           (None, 128, 128, 64)      18496     \n",
            "                                                                 \n",
            " batch_normalization_6 (Batc  (None, 128, 128, 64)     256       \n",
            " hNormalization)                                                 \n",
            "                                                                 \n",
            " max_pooling2d_3 (MaxPooling  (None, 64, 64, 64)       0         \n",
            " 2D)                                                             \n",
            "                                                                 \n",
            " dropout_6 (Dropout)         (None, 64, 64, 64)        0         \n",
            "                                                                 \n",
            " conv2d_6 (Conv2D)           (None, 64, 64, 128)       73856     \n",
            "                                                                 \n",
            " batch_normalization_7 (Batc  (None, 64, 64, 128)      512       \n",
            " hNormalization)                                                 \n",
            "                                                                 \n",
            " dropout_7 (Dropout)         (None, 64, 64, 128)       0         \n",
            "                                                                 \n",
            " conv2d_7 (Conv2D)           (None, 64, 64, 256)       295168    \n",
            "                                                                 \n",
            " batch_normalization_8 (Batc  (None, 64, 64, 256)      1024      \n",
            " hNormalization)                                                 \n",
            "                                                                 \n",
            " dropout_8 (Dropout)         (None, 64, 64, 256)       0         \n",
            "                                                                 \n",
            " flatten_1 (Flatten)         (None, 1048576)           0         \n",
            "                                                                 \n",
            " dense_2 (Dense)             (None, 256)               268435712 \n",
            "                                                                 \n",
            " batch_normalization_9 (Batc  (None, 256)              1024      \n",
            " hNormalization)                                                 \n",
            "                                                                 \n",
            " dropout_9 (Dropout)         (None, 256)               0         \n",
            "                                                                 \n",
            " dense_3 (Dense)             (None, 12)                3084      \n",
            "                                                                 \n",
            "=================================================================\n",
            "Total params: 268,830,156\n",
            "Trainable params: 268,828,684\n",
            "Non-trainable params: 1,472\n",
            "_________________________________________________________________\n"
          ]
        }
      ]
    },
    {
      "cell_type": "markdown",
      "source": [
        "**Do the prediction**"
      ],
      "metadata": {
        "id": "76bwyYdJY9QE"
      }
    },
    {
      "cell_type": "code",
      "source": [
        "test_images_path = '/content/drive/MyDrive/BIG DATA/test/test/*.png'\n",
        "test_images = glob(test_images_path)\n",
        "test_images_arr = []\n",
        "test_files = []\n",
        "\n",
        "for img in test_images:\n",
        "    test_images_arr.append(cv2.resize(cv2.imread(img), (256, 256)))\n",
        "    test_files.append(img.split('/')[-1])\n",
        "\n",
        "test_X = np.asarray(test_images_arr)"
      ],
      "metadata": {
        "id": "XnMZCUa538Fw"
      },
      "execution_count": 49,
      "outputs": []
    },
    {
      "cell_type": "code",
      "source": [
        "# Normalization of the Image Data\n",
        "test_X = test_X.astype('float32') / 255"
      ],
      "metadata": {
        "id": "9u4pknhVR7vq"
      },
      "execution_count": 50,
      "outputs": []
    },
    {
      "cell_type": "code",
      "source": [
        "pred = model.predict(test_X)\n",
        "pred_class = np.argmax(pred, axis=1)\n",
        "pred_str = le.classes_[pred_class]\n",
        "#final_predictions"
      ],
      "metadata": {
        "id": "XTlUSjffR9CW",
        "colab": {
          "base_uri": "https://localhost:8080/"
        },
        "outputId": "845d8c2f-eeec-4fde-9b22-8fcd69b2b6a7"
      },
      "execution_count": 51,
      "outputs": [
        {
          "output_type": "stream",
          "name": "stdout",
          "text": [
            "25/25 [==============================] - 2s 89ms/step\n"
          ]
        }
      ]
    },
    {
      "cell_type": "code",
      "source": [
        "print(pred_str)"
      ],
      "metadata": {
        "colab": {
          "base_uri": "https://localhost:8080/"
        },
        "id": "bCkXtg3TGME8",
        "outputId": "b0f91186-86d0-4bf9-ec0c-c682f5422cb2"
      },
      "execution_count": 52,
      "outputs": [
        {
          "output_type": "stream",
          "name": "stdout",
          "text": [
            "['Fat Hen' 'Loose Silky-bent' 'Common Chickweed' 'Common Chickweed'\n",
            " 'Common wheat' 'Loose Silky-bent' 'Sugar beet' 'Fat Hen'\n",
            " 'Loose Silky-bent' 'Fat Hen' 'Cleavers' 'Common wheat' 'Common Chickweed'\n",
            " 'Scentless Mayweed' 'Common Chickweed' 'Common Chickweed' 'Common wheat'\n",
            " 'Shepherds Purse' 'Small-flowered Cranesbill' 'Shepherds Purse'\n",
            " 'Sugar beet' 'Sugar beet' 'Fat Hen' 'Charlock' 'Common wheat'\n",
            " 'Common Chickweed' 'Fat Hen' 'Cleavers' 'Sugar beet' 'Charlock' 'Maize'\n",
            " 'Common Chickweed' 'Common Chickweed' 'Charlock' 'Loose Silky-bent'\n",
            " 'Scentless Mayweed' 'Cleavers' 'Loose Silky-bent' 'Maize'\n",
            " 'Common Chickweed' 'Scentless Mayweed' 'Scentless Mayweed'\n",
            " 'Shepherds Purse' 'Loose Silky-bent' 'Charlock' 'Cleavers'\n",
            " 'Common Chickweed' 'Loose Silky-bent' 'Fat Hen' 'Scentless Mayweed'\n",
            " 'Sugar beet' 'Loose Silky-bent' 'Sugar beet' 'Scentless Mayweed'\n",
            " 'Shepherds Purse' 'Shepherds Purse' 'Black-grass' 'Common Chickweed'\n",
            " 'Sugar beet' 'Common wheat' 'Shepherds Purse' 'Fat Hen' 'Sugar beet'\n",
            " 'Fat Hen' 'Shepherds Purse' 'Common Chickweed' 'Fat Hen' 'Sugar beet'\n",
            " 'Common Chickweed' 'Loose Silky-bent' 'Fat Hen' 'Loose Silky-bent'\n",
            " 'Charlock' 'Sugar beet' 'Loose Silky-bent' 'Scentless Mayweed'\n",
            " 'Common wheat' 'Small-flowered Cranesbill' 'Shepherds Purse'\n",
            " 'Scentless Mayweed' 'Maize' 'Common Chickweed' 'Sugar beet'\n",
            " 'Scentless Mayweed' 'Common Chickweed' 'Sugar beet' 'Loose Silky-bent'\n",
            " 'Sugar beet' 'Fat Hen' 'Cleavers' 'Common Chickweed'\n",
            " 'Small-flowered Cranesbill' 'Shepherds Purse' 'Sugar beet'\n",
            " 'Loose Silky-bent' 'Common Chickweed' 'Fat Hen' 'Scentless Mayweed'\n",
            " 'Maize' 'Sugar beet' 'Loose Silky-bent' 'Cleavers' 'Maize' 'Fat Hen'\n",
            " 'Common Chickweed' 'Loose Silky-bent' 'Cleavers' 'Common Chickweed'\n",
            " 'Small-flowered Cranesbill' 'Fat Hen' 'Fat Hen' 'Common Chickweed'\n",
            " 'Maize' 'Sugar beet' 'Small-flowered Cranesbill' 'Black-grass'\n",
            " 'Small-flowered Cranesbill' 'Fat Hen' 'Cleavers' 'Loose Silky-bent'\n",
            " 'Common Chickweed' 'Loose Silky-bent' 'Charlock' 'Common Chickweed'\n",
            " 'Common wheat' 'Fat Hen' 'Fat Hen' 'Fat Hen' 'Small-flowered Cranesbill'\n",
            " 'Maize' 'Loose Silky-bent' 'Loose Silky-bent' 'Charlock'\n",
            " 'Small-flowered Cranesbill' 'Common Chickweed' 'Loose Silky-bent'\n",
            " 'Fat Hen' 'Common wheat' 'Maize' 'Maize' 'Scentless Mayweed' 'Cleavers'\n",
            " 'Fat Hen' 'Loose Silky-bent' 'Common Chickweed' 'Loose Silky-bent'\n",
            " 'Charlock' 'Common Chickweed' 'Shepherds Purse' 'Loose Silky-bent'\n",
            " 'Small-flowered Cranesbill' 'Fat Hen' 'Loose Silky-bent'\n",
            " 'Small-flowered Cranesbill' 'Loose Silky-bent' 'Common Chickweed'\n",
            " 'Common Chickweed' 'Small-flowered Cranesbill' 'Charlock'\n",
            " 'Common Chickweed' 'Common Chickweed' 'Fat Hen' 'Scentless Mayweed'\n",
            " 'Loose Silky-bent' 'Fat Hen' 'Small-flowered Cranesbill' 'Fat Hen'\n",
            " 'Sugar beet' 'Loose Silky-bent' 'Sugar beet' 'Small-flowered Cranesbill'\n",
            " 'Small-flowered Cranesbill' 'Loose Silky-bent' 'Common Chickweed'\n",
            " 'Fat Hen' 'Fat Hen' 'Loose Silky-bent' 'Loose Silky-bent' 'Fat Hen'\n",
            " 'Loose Silky-bent' 'Scentless Mayweed' 'Scentless Mayweed'\n",
            " 'Loose Silky-bent' 'Common Chickweed' 'Maize' 'Maize'\n",
            " 'Small-flowered Cranesbill' 'Common Chickweed' 'Common Chickweed'\n",
            " 'Common wheat' 'Maize' 'Shepherds Purse' 'Fat Hen' 'Scentless Mayweed'\n",
            " 'Common wheat' 'Fat Hen' 'Fat Hen' 'Small-flowered Cranesbill' 'Fat Hen'\n",
            " 'Fat Hen' 'Sugar beet' 'Common Chickweed' 'Charlock' 'Loose Silky-bent'\n",
            " 'Black-grass' 'Charlock' 'Common Chickweed' 'Black-grass' 'Sugar beet'\n",
            " 'Small-flowered Cranesbill' 'Cleavers' 'Small-flowered Cranesbill'\n",
            " 'Loose Silky-bent' 'Fat Hen' 'Shepherds Purse' 'Loose Silky-bent'\n",
            " 'Charlock' 'Maize' 'Common Chickweed' 'Fat Hen' 'Shepherds Purse'\n",
            " 'Small-flowered Cranesbill' 'Charlock' 'Common Chickweed'\n",
            " 'Shepherds Purse' 'Maize' 'Charlock' 'Charlock' 'Common Chickweed'\n",
            " 'Sugar beet' 'Fat Hen' 'Fat Hen' 'Loose Silky-bent' 'Common wheat'\n",
            " 'Maize' 'Small-flowered Cranesbill' 'Fat Hen' 'Loose Silky-bent'\n",
            " 'Common Chickweed' 'Common wheat' 'Common wheat' 'Common Chickweed'\n",
            " 'Scentless Mayweed' 'Cleavers' 'Fat Hen' 'Loose Silky-bent' 'Cleavers'\n",
            " 'Cleavers' 'Scentless Mayweed' 'Common wheat' 'Sugar beet' 'Fat Hen'\n",
            " 'Maize' 'Shepherds Purse' 'Fat Hen' 'Sugar beet' 'Common Chickweed'\n",
            " 'Scentless Mayweed' 'Small-flowered Cranesbill' 'Charlock'\n",
            " 'Scentless Mayweed' 'Cleavers' 'Cleavers' 'Cleavers' 'Scentless Mayweed'\n",
            " 'Charlock' 'Common Chickweed' 'Cleavers' 'Black-grass' 'Fat Hen'\n",
            " 'Loose Silky-bent' 'Common Chickweed' 'Loose Silky-bent' 'Common wheat'\n",
            " 'Small-flowered Cranesbill' 'Fat Hen' 'Maize' 'Charlock'\n",
            " 'Common Chickweed' 'Loose Silky-bent' 'Common wheat' 'Maize'\n",
            " 'Common wheat' 'Loose Silky-bent' 'Loose Silky-bent' 'Charlock'\n",
            " 'Small-flowered Cranesbill' 'Sugar beet' 'Sugar beet' 'Maize'\n",
            " 'Shepherds Purse' 'Shepherds Purse' 'Charlock' 'Common wheat' 'Cleavers'\n",
            " 'Common wheat' 'Maize' 'Scentless Mayweed' 'Loose Silky-bent' 'Charlock'\n",
            " 'Fat Hen' 'Fat Hen' 'Loose Silky-bent' 'Cleavers' 'Common wheat'\n",
            " 'Common Chickweed' 'Shepherds Purse' 'Fat Hen' 'Charlock' 'Fat Hen'\n",
            " 'Maize' 'Fat Hen' 'Common wheat' 'Common Chickweed' 'Common wheat'\n",
            " 'Common Chickweed' 'Sugar beet' 'Common Chickweed' 'Fat Hen'\n",
            " 'Common wheat' 'Sugar beet' 'Common Chickweed' 'Loose Silky-bent'\n",
            " 'Sugar beet' 'Charlock' 'Common wheat' 'Fat Hen' 'Scentless Mayweed'\n",
            " 'Common wheat' 'Sugar beet' 'Charlock' 'Small-flowered Cranesbill'\n",
            " 'Fat Hen' 'Charlock' 'Fat Hen' 'Loose Silky-bent'\n",
            " 'Small-flowered Cranesbill' 'Charlock' 'Loose Silky-bent' 'Sugar beet'\n",
            " 'Small-flowered Cranesbill' 'Common Chickweed' 'Fat Hen' 'Charlock'\n",
            " 'Common Chickweed' 'Black-grass' 'Shepherds Purse' 'Sugar beet' 'Fat Hen'\n",
            " 'Sugar beet' 'Shepherds Purse' 'Charlock' 'Common Chickweed'\n",
            " 'Common Chickweed' 'Cleavers' 'Fat Hen' 'Fat Hen' 'Charlock'\n",
            " 'Common wheat' 'Small-flowered Cranesbill' 'Black-grass'\n",
            " 'Shepherds Purse' 'Cleavers' 'Loose Silky-bent' 'Charlock' 'Cleavers'\n",
            " 'Fat Hen' 'Fat Hen' 'Sugar beet' 'Loose Silky-bent' 'Shepherds Purse'\n",
            " 'Common Chickweed' 'Fat Hen' 'Fat Hen' 'Shepherds Purse'\n",
            " 'Loose Silky-bent' 'Charlock' 'Common wheat' 'Charlock' 'Common wheat'\n",
            " 'Scentless Mayweed' 'Loose Silky-bent' 'Loose Silky-bent'\n",
            " 'Common Chickweed' 'Common wheat' 'Loose Silky-bent' 'Scentless Mayweed'\n",
            " 'Small-flowered Cranesbill' 'Loose Silky-bent' 'Common Chickweed'\n",
            " 'Scentless Mayweed' 'Charlock' 'Loose Silky-bent' 'Loose Silky-bent'\n",
            " 'Sugar beet' 'Loose Silky-bent' 'Small-flowered Cranesbill'\n",
            " 'Small-flowered Cranesbill' 'Charlock' 'Fat Hen' 'Charlock'\n",
            " 'Common wheat' 'Small-flowered Cranesbill' 'Common Chickweed'\n",
            " 'Sugar beet' 'Small-flowered Cranesbill' 'Small-flowered Cranesbill'\n",
            " 'Loose Silky-bent' 'Common Chickweed' 'Small-flowered Cranesbill'\n",
            " 'Common Chickweed' 'Scentless Mayweed' 'Scentless Mayweed'\n",
            " 'Common Chickweed' 'Loose Silky-bent' 'Sugar beet' 'Black-grass'\n",
            " 'Loose Silky-bent' 'Loose Silky-bent' 'Common wheat' 'Fat Hen'\n",
            " 'Common Chickweed' 'Loose Silky-bent' 'Small-flowered Cranesbill'\n",
            " 'Fat Hen' 'Loose Silky-bent' 'Sugar beet' 'Charlock' 'Common Chickweed'\n",
            " 'Small-flowered Cranesbill' 'Shepherds Purse' 'Common wheat'\n",
            " 'Small-flowered Cranesbill' 'Black-grass' 'Sugar beet'\n",
            " 'Small-flowered Cranesbill' 'Small-flowered Cranesbill' 'Cleavers'\n",
            " 'Small-flowered Cranesbill' 'Sugar beet' 'Small-flowered Cranesbill'\n",
            " 'Cleavers' 'Shepherds Purse' 'Fat Hen' 'Scentless Mayweed'\n",
            " 'Small-flowered Cranesbill' 'Common Chickweed' 'Shepherds Purse'\n",
            " 'Sugar beet' 'Common wheat' 'Loose Silky-bent' 'Sugar beet' 'Sugar beet'\n",
            " 'Black-grass' 'Fat Hen' 'Common wheat' 'Common Chickweed' 'Sugar beet'\n",
            " 'Loose Silky-bent' 'Charlock' 'Fat Hen' 'Loose Silky-bent' 'Charlock'\n",
            " 'Loose Silky-bent' 'Scentless Mayweed' 'Charlock'\n",
            " 'Small-flowered Cranesbill' 'Scentless Mayweed' 'Maize'\n",
            " 'Scentless Mayweed' 'Common wheat' 'Sugar beet' 'Fat Hen' 'Sugar beet'\n",
            " 'Common Chickweed' 'Shepherds Purse' 'Loose Silky-bent'\n",
            " 'Loose Silky-bent' 'Common wheat' 'Cleavers' 'Shepherds Purse'\n",
            " 'Scentless Mayweed' 'Charlock' 'Scentless Mayweed' 'Fat Hen'\n",
            " 'Loose Silky-bent' 'Fat Hen' 'Small-flowered Cranesbill'\n",
            " 'Loose Silky-bent' 'Maize' 'Common Chickweed' 'Shepherds Purse'\n",
            " 'Sugar beet' 'Common Chickweed' 'Small-flowered Cranesbill'\n",
            " 'Small-flowered Cranesbill' 'Common wheat' 'Loose Silky-bent'\n",
            " 'Small-flowered Cranesbill' 'Cleavers' 'Sugar beet'\n",
            " 'Small-flowered Cranesbill' 'Common wheat' 'Small-flowered Cranesbill'\n",
            " 'Cleavers' 'Charlock' 'Maize' 'Loose Silky-bent' 'Fat Hen' 'Charlock'\n",
            " 'Fat Hen' 'Fat Hen' 'Common Chickweed' 'Common Chickweed' 'Charlock'\n",
            " 'Common Chickweed' 'Sugar beet' 'Loose Silky-bent' 'Shepherds Purse'\n",
            " 'Scentless Mayweed' 'Cleavers' 'Loose Silky-bent' 'Fat Hen'\n",
            " 'Loose Silky-bent' 'Shepherds Purse' 'Small-flowered Cranesbill'\n",
            " 'Loose Silky-bent' 'Shepherds Purse' 'Maize' 'Fat Hen' 'Loose Silky-bent'\n",
            " 'Common wheat' 'Common wheat' 'Black-grass' 'Fat Hen'\n",
            " 'Small-flowered Cranesbill' 'Common Chickweed' 'Scentless Mayweed'\n",
            " 'Scentless Mayweed' 'Common Chickweed' 'Small-flowered Cranesbill'\n",
            " 'Fat Hen' 'Scentless Mayweed' 'Fat Hen' 'Shepherds Purse'\n",
            " 'Loose Silky-bent' 'Fat Hen' 'Loose Silky-bent' 'Sugar beet'\n",
            " 'Shepherds Purse' 'Common Chickweed' 'Common Chickweed'\n",
            " 'Common Chickweed' 'Maize' 'Fat Hen' 'Cleavers' 'Fat Hen' 'Fat Hen'\n",
            " 'Common Chickweed' 'Charlock' 'Shepherds Purse' 'Scentless Mayweed'\n",
            " 'Cleavers' 'Black-grass' 'Charlock' 'Fat Hen' 'Loose Silky-bent'\n",
            " 'Fat Hen' 'Scentless Mayweed' 'Cleavers' 'Small-flowered Cranesbill'\n",
            " 'Fat Hen' 'Sugar beet' 'Fat Hen' 'Charlock' 'Cleavers'\n",
            " 'Small-flowered Cranesbill' 'Sugar beet' 'Fat Hen' 'Maize'\n",
            " 'Small-flowered Cranesbill' 'Common Chickweed' 'Loose Silky-bent'\n",
            " 'Charlock' 'Loose Silky-bent' 'Common wheat' 'Small-flowered Cranesbill'\n",
            " 'Sugar beet' 'Loose Silky-bent' 'Scentless Mayweed' 'Loose Silky-bent'\n",
            " 'Loose Silky-bent' 'Common Chickweed' 'Scentless Mayweed'\n",
            " 'Scentless Mayweed' 'Fat Hen' 'Maize' 'Loose Silky-bent' 'Maize'\n",
            " 'Common Chickweed' 'Common wheat' 'Black-grass' 'Shepherds Purse' 'Maize'\n",
            " 'Loose Silky-bent' 'Common Chickweed' 'Sugar beet' 'Fat Hen'\n",
            " 'Shepherds Purse' 'Loose Silky-bent' 'Scentless Mayweed'\n",
            " 'Common Chickweed' 'Maize' 'Charlock' 'Fat Hen' 'Common Chickweed'\n",
            " 'Loose Silky-bent' 'Loose Silky-bent' 'Charlock' 'Shepherds Purse'\n",
            " 'Maize' 'Sugar beet' 'Scentless Mayweed' 'Sugar beet' 'Common wheat'\n",
            " 'Charlock' 'Scentless Mayweed' 'Loose Silky-bent' 'Cleavers'\n",
            " 'Loose Silky-bent' 'Loose Silky-bent' 'Common Chickweed' 'Cleavers'\n",
            " 'Black-grass' 'Common Chickweed' 'Fat Hen' 'Loose Silky-bent'\n",
            " 'Common Chickweed' 'Scentless Mayweed' 'Scentless Mayweed' 'Black-grass'\n",
            " 'Scentless Mayweed' 'Loose Silky-bent' 'Loose Silky-bent'\n",
            " 'Scentless Mayweed' 'Loose Silky-bent' 'Loose Silky-bent' 'Black-grass'\n",
            " 'Common Chickweed' 'Charlock' 'Shepherds Purse'\n",
            " 'Small-flowered Cranesbill' 'Cleavers' 'Small-flowered Cranesbill'\n",
            " 'Scentless Mayweed' 'Scentless Mayweed' 'Scentless Mayweed'\n",
            " 'Small-flowered Cranesbill' 'Common Chickweed' 'Scentless Mayweed'\n",
            " 'Sugar beet' 'Maize' 'Scentless Mayweed' 'Small-flowered Cranesbill'\n",
            " 'Common Chickweed' 'Scentless Mayweed' 'Sugar beet' 'Fat Hen'\n",
            " 'Scentless Mayweed' 'Common wheat' 'Loose Silky-bent' 'Common wheat'\n",
            " 'Common wheat' 'Charlock' 'Shepherds Purse' 'Small-flowered Cranesbill'\n",
            " 'Fat Hen' 'Fat Hen' 'Scentless Mayweed' 'Common Chickweed'\n",
            " 'Common Chickweed' 'Small-flowered Cranesbill' 'Loose Silky-bent'\n",
            " 'Loose Silky-bent' 'Sugar beet' 'Scentless Mayweed' 'Sugar beet'\n",
            " 'Common Chickweed' 'Charlock' 'Fat Hen' 'Shepherds Purse' 'Sugar beet'\n",
            " 'Loose Silky-bent' 'Common wheat' 'Shepherds Purse' 'Loose Silky-bent'\n",
            " 'Small-flowered Cranesbill' 'Loose Silky-bent' 'Maize' 'Charlock'\n",
            " 'Charlock' 'Small-flowered Cranesbill' 'Loose Silky-bent'\n",
            " 'Small-flowered Cranesbill' 'Sugar beet' 'Common Chickweed' 'Cleavers'\n",
            " 'Cleavers' 'Fat Hen' 'Loose Silky-bent' 'Fat Hen' 'Cleavers' 'Charlock'\n",
            " 'Small-flowered Cranesbill' 'Loose Silky-bent' 'Fat Hen' 'Sugar beet'\n",
            " 'Fat Hen' 'Common wheat' 'Charlock' 'Sugar beet' 'Fat Hen' 'Fat Hen'\n",
            " 'Loose Silky-bent' 'Charlock' 'Small-flowered Cranesbill' 'Fat Hen'\n",
            " 'Loose Silky-bent' 'Common wheat' 'Cleavers' 'Scentless Mayweed'\n",
            " 'Common Chickweed' 'Cleavers' 'Charlock' 'Charlock' 'Loose Silky-bent'\n",
            " 'Scentless Mayweed' 'Cleavers' 'Scentless Mayweed' 'Shepherds Purse'\n",
            " 'Fat Hen' 'Sugar beet' 'Loose Silky-bent' 'Sugar beet' 'Shepherds Purse'\n",
            " 'Scentless Mayweed' 'Sugar beet' 'Sugar beet' 'Sugar beet'\n",
            " 'Shepherds Purse' 'Loose Silky-bent' 'Common Chickweed'\n",
            " 'Loose Silky-bent' 'Fat Hen' 'Small-flowered Cranesbill' 'Cleavers'\n",
            " 'Fat Hen' 'Loose Silky-bent' 'Shepherds Purse' 'Common Chickweed'\n",
            " 'Small-flowered Cranesbill' 'Shepherds Purse' 'Sugar beet' 'Common wheat'\n",
            " 'Maize' 'Scentless Mayweed' 'Sugar beet' 'Common Chickweed' 'Fat Hen'\n",
            " 'Sugar beet' 'Common Chickweed' 'Fat Hen' 'Common wheat' 'Common wheat'\n",
            " 'Fat Hen' 'Scentless Mayweed' 'Charlock' 'Loose Silky-bent' 'Charlock'\n",
            " 'Charlock' 'Sugar beet' 'Shepherds Purse' 'Sugar beet'\n",
            " 'Scentless Mayweed' 'Fat Hen' 'Cleavers' 'Common wheat'\n",
            " 'Scentless Mayweed' 'Loose Silky-bent' 'Loose Silky-bent' 'Sugar beet'\n",
            " 'Scentless Mayweed' 'Charlock' 'Charlock']\n"
          ]
        }
      ]
    }
  ]
}